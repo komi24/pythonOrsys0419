{
 "cells": [
  {
   "cell_type": "code",
   "execution_count": 1,
   "metadata": {},
   "outputs": [
    {
     "name": "stdout",
     "output_type": "stream",
     "text": [
      "hello\n"
     ]
    }
   ],
   "source": [
    "print(\"hello\")"
   ]
  },
  {
   "cell_type": "markdown",
   "metadata": {},
   "source": [
    "## Ceci est un titre\n",
    "\n",
    "bonjour"
   ]
  },
  {
   "cell_type": "code",
   "execution_count": 2,
   "metadata": {},
   "outputs": [],
   "source": [
    "a = 4\n"
   ]
  },
  {
   "cell_type": "code",
   "execution_count": 3,
   "metadata": {},
   "outputs": [
    {
     "name": "stdout",
     "output_type": "stream",
     "text": [
      "4\n"
     ]
    }
   ],
   "source": [
    "print(a)"
   ]
  },
  {
   "cell_type": "code",
   "execution_count": 4,
   "metadata": {},
   "outputs": [
    {
     "data": {
      "text/plain": [
       "int"
      ]
     },
     "execution_count": 4,
     "metadata": {},
     "output_type": "execute_result"
    }
   ],
   "source": [
    "type(a)"
   ]
  },
  {
   "cell_type": "code",
   "execution_count": 5,
   "metadata": {},
   "outputs": [],
   "source": [
    "a = \"Bonjour\""
   ]
  },
  {
   "cell_type": "code",
   "execution_count": 6,
   "metadata": {},
   "outputs": [
    {
     "data": {
      "text/plain": [
       "str"
      ]
     },
     "execution_count": 6,
     "metadata": {},
     "output_type": "execute_result"
    }
   ],
   "source": [
    "type(a)"
   ]
  },
  {
   "cell_type": "code",
   "execution_count": 7,
   "metadata": {},
   "outputs": [],
   "source": [
    "a = 2.0"
   ]
  },
  {
   "cell_type": "code",
   "execution_count": 8,
   "metadata": {},
   "outputs": [
    {
     "data": {
      "text/plain": [
       "float"
      ]
     },
     "execution_count": 8,
     "metadata": {},
     "output_type": "execute_result"
    }
   ],
   "source": [
    "type(a)"
   ]
  },
  {
   "cell_type": "code",
   "execution_count": 9,
   "metadata": {},
   "outputs": [
    {
     "data": {
      "text/plain": [
       "complex"
      ]
     },
     "execution_count": 9,
     "metadata": {},
     "output_type": "execute_result"
    }
   ],
   "source": [
    "a = 2+2j\n",
    "type(a)"
   ]
  },
  {
   "cell_type": "code",
   "execution_count": 12,
   "metadata": {},
   "outputs": [
    {
     "data": {
      "text/plain": [
       "bool"
      ]
     },
     "execution_count": 12,
     "metadata": {},
     "output_type": "execute_result"
    }
   ],
   "source": [
    "a = None\n",
    "a = False\n",
    "type(a)"
   ]
  },
  {
   "cell_type": "code",
   "execution_count": 13,
   "metadata": {},
   "outputs": [],
   "source": [
    "a = 2\n",
    "a = 4\n",
    "\n",
    "a = [2, 4, 6]\n"
   ]
  },
  {
   "cell_type": "code",
   "execution_count": 14,
   "metadata": {},
   "outputs": [],
   "source": [
    "b = a"
   ]
  },
  {
   "cell_type": "code",
   "execution_count": 15,
   "metadata": {},
   "outputs": [],
   "source": [
    "b[0] = 3"
   ]
  },
  {
   "cell_type": "code",
   "execution_count": 16,
   "metadata": {},
   "outputs": [
    {
     "name": "stdout",
     "output_type": "stream",
     "text": [
      "[3, 4, 6]\n"
     ]
    }
   ],
   "source": [
    "print(a)"
   ]
  },
  {
   "cell_type": "code",
   "execution_count": 17,
   "metadata": {},
   "outputs": [],
   "source": [
    "b = list(a)"
   ]
  },
  {
   "cell_type": "code",
   "execution_count": 18,
   "metadata": {},
   "outputs": [
    {
     "name": "stdout",
     "output_type": "stream",
     "text": [
      "[3, 4, 6]\n"
     ]
    }
   ],
   "source": [
    "b[0] = 15\n",
    "print(a)"
   ]
  },
  {
   "cell_type": "code",
   "execution_count": 20,
   "metadata": {},
   "outputs": [],
   "source": [
    "# Un liste avec des types hétérogènes\n",
    "a = [2 , False, \"abc\", 3.0, None, [5,3,7]]"
   ]
  },
  {
   "cell_type": "code",
   "execution_count": 21,
   "metadata": {},
   "outputs": [
    {
     "data": {
      "text/plain": [
       "list"
      ]
     },
     "execution_count": 21,
     "metadata": {},
     "output_type": "execute_result"
    }
   ],
   "source": [
    "type(a)"
   ]
  },
  {
   "cell_type": "code",
   "execution_count": 24,
   "metadata": {},
   "outputs": [
    {
     "data": {
      "text/plain": [
       "[5, 3, 7]"
      ]
     },
     "execution_count": 24,
     "metadata": {},
     "output_type": "execute_result"
    }
   ],
   "source": [
    "a[-1]"
   ]
  },
  {
   "cell_type": "code",
   "execution_count": 28,
   "metadata": {},
   "outputs": [
    {
     "data": {
      "text/plain": [
       "5"
      ]
     },
     "execution_count": 28,
     "metadata": {},
     "output_type": "execute_result"
    }
   ],
   "source": [
    "a[-1][0]"
   ]
  },
  {
   "cell_type": "code",
   "execution_count": 29,
   "metadata": {},
   "outputs": [
    {
     "data": {
      "text/plain": [
       "'B'"
      ]
     },
     "execution_count": 29,
     "metadata": {},
     "output_type": "execute_result"
    }
   ],
   "source": [
    "a = \"Bonjour\"\n",
    "a[0]"
   ]
  },
  {
   "cell_type": "code",
   "execution_count": 31,
   "metadata": {},
   "outputs": [
    {
     "data": {
      "text/plain": [
       "tuple"
      ]
     },
     "execution_count": 31,
     "metadata": {},
     "output_type": "execute_result"
    }
   ],
   "source": [
    "#a[0] = 'C'\n",
    "a = (2,4,6)\n",
    "type(a)"
   ]
  },
  {
   "cell_type": "code",
   "execution_count": 32,
   "metadata": {},
   "outputs": [
    {
     "ename": "TypeError",
     "evalue": "'tuple' object does not support item assignment",
     "output_type": "error",
     "traceback": [
      "\u001b[1;31m---------------------------------------------------------------------------\u001b[0m",
      "\u001b[1;31mTypeError\u001b[0m                                 Traceback (most recent call last)",
      "\u001b[1;32m<ipython-input-32-9bdca909cd90>\u001b[0m in \u001b[0;36m<module>\u001b[1;34m\u001b[0m\n\u001b[1;32m----> 1\u001b[1;33m \u001b[0ma\u001b[0m\u001b[1;33m[\u001b[0m\u001b[1;36m0\u001b[0m\u001b[1;33m]\u001b[0m\u001b[1;33m=\u001b[0m\u001b[1;36m6\u001b[0m\u001b[1;33m\u001b[0m\u001b[1;33m\u001b[0m\u001b[0m\n\u001b[0m",
      "\u001b[1;31mTypeError\u001b[0m: 'tuple' object does not support item assignment"
     ]
    }
   ],
   "source": [
    "a[0]=6"
   ]
  },
  {
   "cell_type": "code",
   "execution_count": 39,
   "metadata": {},
   "outputs": [],
   "source": [
    "dico = {'nom': 'Bolnet', 'prenom': 'Mickael', (1,5): [3,2,5]}"
   ]
  },
  {
   "cell_type": "code",
   "execution_count": 40,
   "metadata": {},
   "outputs": [
    {
     "name": "stdout",
     "output_type": "stream",
     "text": [
      "150\n"
     ]
    }
   ],
   "source": [
    "temps_arrivees = {12: 190, 1 : 150, 3: 160, 400: 240}\n",
    "print(temps_arrivees[1])\n",
    "temps_arrivees[14] = 200"
   ]
  },
  {
   "cell_type": "code",
   "execution_count": 47,
   "metadata": {},
   "outputs": [
    {
     "name": "stdout",
     "output_type": "stream",
     "text": [
      "Bolnet\n",
      "[3, 2, 5]\n"
     ]
    }
   ],
   "source": [
    "print(dico['nom'])\n",
    "print(dico[(1,5)])\n",
    "\n",
    "a = \"Bonjour\"\n",
    "# a[0] = \"C\"\n",
    "a = (1,6)\n",
    "a = (14, 6) # réaffectation\n",
    "a = (13,) # tuple\n",
    "a = (13) # int"
   ]
  },
  {
   "cell_type": "code",
   "execution_count": 48,
   "metadata": {},
   "outputs": [],
   "source": [
    "ma_variable = 12\n",
    "MA_CONSTANTE = 23\n"
   ]
  },
  {
   "cell_type": "code",
   "execution_count": 51,
   "metadata": {},
   "outputs": [
    {
     "name": "stdout",
     "output_type": "stream",
     "text": [
      "[0, 0, 0, 0, 0, 0, 0, 0, 0, 0, 0, 0, 0, 0, 0, 0, 0, 0, 0, 0, 0, 0, 0, 0, 0, 0, 0, 0, 0, 0, 0, 0, 0, 0, 0, 0, 0, 0, 0, 0, 0, 0, 0, 0, 0, 0, 0, 0, 0, 0, 1]\n"
     ]
    }
   ],
   "source": [
    "a = [0] * 50 + [1]\n",
    "print(a)"
   ]
  },
  {
   "cell_type": "code",
   "execution_count": 50,
   "metadata": {},
   "outputs": [
    {
     "name": "stdout",
     "output_type": "stream",
     "text": [
      "[1 4 6]\n",
      "[ 2  8 12]\n"
     ]
    }
   ],
   "source": [
    "import numpy as np\n",
    "\n",
    "a = np.array([1,4,6])\n",
    "print(a)\n",
    "print(a * 2)"
   ]
  },
  {
   "cell_type": "code",
   "execution_count": 53,
   "metadata": {},
   "outputs": [
    {
     "name": "stdout",
     "output_type": "stream",
     "text": [
      "True\n",
      "True\n"
     ]
    }
   ],
   "source": [
    "print(4 in [4,2,6])\n",
    "print('C' in 'Cnjour')"
   ]
  },
  {
   "cell_type": "code",
   "execution_count": 55,
   "metadata": {},
   "outputs": [
    {
     "data": {
      "text/plain": [
       "4"
      ]
     },
     "execution_count": 55,
     "metadata": {},
     "output_type": "execute_result"
    }
   ],
   "source": [
    "len([2,4,6,7])"
   ]
  },
  {
   "cell_type": "code",
   "execution_count": 57,
   "metadata": {},
   "outputs": [
    {
     "data": {
      "text/plain": [
       "1"
      ]
     },
     "execution_count": 57,
     "metadata": {},
     "output_type": "execute_result"
    }
   ],
   "source": [
    "[3,5,2,3].index(5)"
   ]
  },
  {
   "cell_type": "code",
   "execution_count": 58,
   "metadata": {},
   "outputs": [
    {
     "name": "stdout",
     "output_type": "stream",
     "text": [
      "{3, 5, 6}\n"
     ]
    }
   ],
   "source": [
    "print(set([3,5,6,6]))"
   ]
  },
  {
   "cell_type": "code",
   "execution_count": 66,
   "metadata": {},
   "outputs": [
    {
     "name": "stdout",
     "output_type": "stream",
     "text": [
      "[2, 4, 6]\n",
      "[4, 6, 1]\n",
      "[2, 4, 6]\n",
      "[6, 1, 4, 8]\n",
      "[6, 1, 4]\n",
      "[4, 8]\n",
      "[2, 6, 4]\n",
      "[8, 4, 1, 6, 4, 2]\n"
     ]
    }
   ],
   "source": [
    "a = [2,4,6,1,4,8]\n",
    "print(a[0:3])\n",
    "print(a[1:4])\n",
    "print(a[:3])\n",
    "print(a[2:])\n",
    "print(a[2:-1])\n",
    "print(a[-2:])\n",
    "print(a[0:6:2])\n",
    "print(a[::-1])\n"
   ]
  },
  {
   "cell_type": "markdown",
   "metadata": {},
   "source": [
    "## Boucles et Conditions"
   ]
  },
  {
   "cell_type": "code",
   "execution_count": 71,
   "metadata": {},
   "outputs": [
    {
     "name": "stdout",
     "output_type": "stream",
     "text": [
      "indice 0\n",
      "valeur 4\n",
      "indice 1\n",
      "valeur 5\n",
      "indice 2\n",
      "valeur 7\n",
      "indice 3\n",
      "valeur 1\n"
     ]
    }
   ],
   "source": [
    "# for element in [4,5,7,1]:\n",
    "#     print(element)\n",
    "\n",
    "tab =[4,5,7,1]    \n",
    "for i in range(len(tab)):\n",
    "    print('indice', i)\n",
    "    print('valeur', tab[i])"
   ]
  },
  {
   "cell_type": "code",
   "execution_count": 72,
   "metadata": {},
   "outputs": [
    {
     "name": "stdout",
     "output_type": "stream",
     "text": [
      "2\n",
      "4\n",
      "6\n",
      "8\n",
      "10\n",
      "12\n",
      "14\n",
      "16\n"
     ]
    }
   ],
   "source": [
    "liste = [1,2,3,4,5,6,7,8]\n",
    "for i in liste:\n",
    "    print(2*i)"
   ]
  },
  {
   "cell_type": "code",
   "execution_count": 73,
   "metadata": {},
   "outputs": [
    {
     "name": "stdout",
     "output_type": "stream",
     "text": [
      "2\n",
      "4\n",
      "6\n",
      "8\n",
      "10\n",
      "12\n",
      "14\n",
      "16\n"
     ]
    }
   ],
   "source": [
    "for i in range(len(liste)):\n",
    "    print(2*liste[i])"
   ]
  },
  {
   "cell_type": "code",
   "execution_count": 76,
   "metadata": {},
   "outputs": [
    {
     "name": "stdout",
     "output_type": "stream",
     "text": [
      "Bonjour\n",
      "Aurevoir\n",
      "Bonjour\n",
      "Aurevoir\n",
      "Bonjour\n",
      "Aurevoir\n",
      "Bonjour\n",
      "Aurevoir\n",
      "Bonjour\n",
      "Aurevoir\n",
      "Bonjour\n",
      "Aurevoir\n",
      "Bonjour\n",
      "Bonjour\n",
      "Bonjour\n",
      "Bonjour\n"
     ]
    }
   ],
   "source": [
    "for i in range(10):\n",
    "    print(\"Bonjour\")\n",
    "    if i > 5:\n",
    "        continue\n",
    "    print(\"Aurevoir\")\n"
   ]
  },
  {
   "cell_type": "code",
   "execution_count": 81,
   "metadata": {},
   "outputs": [
    {
     "name": "stdout",
     "output_type": "stream",
     "text": [
      "exécution\n"
     ]
    }
   ],
   "source": [
    "if 4 < 2:\n",
    "    print(\"ok\")\n",
    "elif \"B\" in  \"Bonjour\":\n",
    "    # Optionnel\n",
    "    print(\"exécution\")\n",
    "else: \n",
    "    # Optionnel\n",
    "    print(\"fin\")"
   ]
  },
  {
   "cell_type": "code",
   "execution_count": 88,
   "metadata": {},
   "outputs": [
    {
     "name": "stdout",
     "output_type": "stream",
     "text": [
      "Quel est votre age ?40\n"
     ]
    }
   ],
   "source": [
    "age = input(\"Quel est votre age ?\")\n"
   ]
  },
  {
   "cell_type": "code",
   "execution_count": 89,
   "metadata": {},
   "outputs": [
    {
     "name": "stdout",
     "output_type": "stream",
     "text": [
      "40\n"
     ]
    }
   ],
   "source": [
    "print(int(age))\n"
   ]
  },
  {
   "cell_type": "code",
   "execution_count": null,
   "metadata": {},
   "outputs": [],
   "source": [
    "# Demander 4 fois de rentrer un nom et un age\n",
    "# Pour construire 4 dictionnaires {nom :..., age: ...}\n",
    "# Que vous stockerez dans une liste"
   ]
  },
  {
   "cell_type": "code",
   "execution_count": 90,
   "metadata": {},
   "outputs": [],
   "source": [
    "liste = []\n",
    "\n",
    "liste.append({'nom':'Bolnet', 'age': 40})\n",
    "\n",
    "# liste = liste + [{'nom':'Bolnet', 'age': 40}]"
   ]
  },
  {
   "cell_type": "code",
   "execution_count": 92,
   "metadata": {},
   "outputs": [
    {
     "name": "stdout",
     "output_type": "stream",
     "text": [
      "Help on list object:\n",
      "\n",
      "class list(object)\n",
      " |  list(iterable=(), /)\n",
      " |  \n",
      " |  Built-in mutable sequence.\n",
      " |  \n",
      " |  If no argument is given, the constructor creates a new empty list.\n",
      " |  The argument must be an iterable if specified.\n",
      " |  \n",
      " |  Methods defined here:\n",
      " |  \n",
      " |  __add__(self, value, /)\n",
      " |      Return self+value.\n",
      " |  \n",
      " |  __contains__(self, key, /)\n",
      " |      Return key in self.\n",
      " |  \n",
      " |  __delitem__(self, key, /)\n",
      " |      Delete self[key].\n",
      " |  \n",
      " |  __eq__(self, value, /)\n",
      " |      Return self==value.\n",
      " |  \n",
      " |  __ge__(self, value, /)\n",
      " |      Return self>=value.\n",
      " |  \n",
      " |  __getattribute__(self, name, /)\n",
      " |      Return getattr(self, name).\n",
      " |  \n",
      " |  __getitem__(...)\n",
      " |      x.__getitem__(y) <==> x[y]\n",
      " |  \n",
      " |  __gt__(self, value, /)\n",
      " |      Return self>value.\n",
      " |  \n",
      " |  __iadd__(self, value, /)\n",
      " |      Implement self+=value.\n",
      " |  \n",
      " |  __imul__(self, value, /)\n",
      " |      Implement self*=value.\n",
      " |  \n",
      " |  __init__(self, /, *args, **kwargs)\n",
      " |      Initialize self.  See help(type(self)) for accurate signature.\n",
      " |  \n",
      " |  __iter__(self, /)\n",
      " |      Implement iter(self).\n",
      " |  \n",
      " |  __le__(self, value, /)\n",
      " |      Return self<=value.\n",
      " |  \n",
      " |  __len__(self, /)\n",
      " |      Return len(self).\n",
      " |  \n",
      " |  __lt__(self, value, /)\n",
      " |      Return self<value.\n",
      " |  \n",
      " |  __mul__(self, value, /)\n",
      " |      Return self*value.\n",
      " |  \n",
      " |  __ne__(self, value, /)\n",
      " |      Return self!=value.\n",
      " |  \n",
      " |  __repr__(self, /)\n",
      " |      Return repr(self).\n",
      " |  \n",
      " |  __reversed__(self, /)\n",
      " |      Return a reverse iterator over the list.\n",
      " |  \n",
      " |  __rmul__(self, value, /)\n",
      " |      Return value*self.\n",
      " |  \n",
      " |  __setitem__(self, key, value, /)\n",
      " |      Set self[key] to value.\n",
      " |  \n",
      " |  __sizeof__(self, /)\n",
      " |      Return the size of the list in memory, in bytes.\n",
      " |  \n",
      " |  append(self, object, /)\n",
      " |      Append object to the end of the list.\n",
      " |  \n",
      " |  clear(self, /)\n",
      " |      Remove all items from list.\n",
      " |  \n",
      " |  copy(self, /)\n",
      " |      Return a shallow copy of the list.\n",
      " |  \n",
      " |  count(self, value, /)\n",
      " |      Return number of occurrences of value.\n",
      " |  \n",
      " |  extend(self, iterable, /)\n",
      " |      Extend list by appending elements from the iterable.\n",
      " |  \n",
      " |  index(self, value, start=0, stop=9223372036854775807, /)\n",
      " |      Return first index of value.\n",
      " |      \n",
      " |      Raises ValueError if the value is not present.\n",
      " |  \n",
      " |  insert(self, index, object, /)\n",
      " |      Insert object before index.\n",
      " |  \n",
      " |  pop(self, index=-1, /)\n",
      " |      Remove and return item at index (default last).\n",
      " |      \n",
      " |      Raises IndexError if list is empty or index is out of range.\n",
      " |  \n",
      " |  remove(self, value, /)\n",
      " |      Remove first occurrence of value.\n",
      " |      \n",
      " |      Raises ValueError if the value is not present.\n",
      " |  \n",
      " |  reverse(self, /)\n",
      " |      Reverse *IN PLACE*.\n",
      " |  \n",
      " |  sort(self, /, *, key=None, reverse=False)\n",
      " |      Stable sort *IN PLACE*.\n",
      " |  \n",
      " |  ----------------------------------------------------------------------\n",
      " |  Static methods defined here:\n",
      " |  \n",
      " |  __new__(*args, **kwargs) from builtins.type\n",
      " |      Create and return a new object.  See help(type) for accurate signature.\n",
      " |  \n",
      " |  ----------------------------------------------------------------------\n",
      " |  Data and other attributes defined here:\n",
      " |  \n",
      " |  __hash__ = None\n",
      "\n"
     ]
    },
    {
     "data": {
      "text/plain": [
       "['__add__',\n",
       " '__class__',\n",
       " '__contains__',\n",
       " '__delattr__',\n",
       " '__delitem__',\n",
       " '__dir__',\n",
       " '__doc__',\n",
       " '__eq__',\n",
       " '__format__',\n",
       " '__ge__',\n",
       " '__getattribute__',\n",
       " '__getitem__',\n",
       " '__gt__',\n",
       " '__hash__',\n",
       " '__iadd__',\n",
       " '__imul__',\n",
       " '__init__',\n",
       " '__init_subclass__',\n",
       " '__iter__',\n",
       " '__le__',\n",
       " '__len__',\n",
       " '__lt__',\n",
       " '__mul__',\n",
       " '__ne__',\n",
       " '__new__',\n",
       " '__reduce__',\n",
       " '__reduce_ex__',\n",
       " '__repr__',\n",
       " '__reversed__',\n",
       " '__rmul__',\n",
       " '__setattr__',\n",
       " '__setitem__',\n",
       " '__sizeof__',\n",
       " '__str__',\n",
       " '__subclasshook__',\n",
       " 'append',\n",
       " 'clear',\n",
       " 'copy',\n",
       " 'count',\n",
       " 'extend',\n",
       " 'index',\n",
       " 'insert',\n",
       " 'pop',\n",
       " 'remove',\n",
       " 'reverse',\n",
       " 'sort']"
      ]
     },
     "execution_count": 92,
     "metadata": {},
     "output_type": "execute_result"
    }
   ],
   "source": [
    "help(liste)\n",
    "dir(liste)"
   ]
  },
  {
   "cell_type": "code",
   "execution_count": 93,
   "metadata": {},
   "outputs": [
    {
     "name": "stdout",
     "output_type": "stream",
     "text": [
      "Help on function ma_fonction in module __main__:\n",
      "\n",
      "ma_fonction()\n",
      "    ma fonction\n",
      "\n"
     ]
    }
   ],
   "source": [
    "def ma_fonction():\n",
    "    \"\"\"\n",
    "    ma fonction\n",
    "    \"\"\"\n",
    "    pass\n",
    "\n",
    "help(ma_fonction)"
   ]
  },
  {
   "cell_type": "code",
   "execution_count": 95,
   "metadata": {},
   "outputs": [
    {
     "name": "stdout",
     "output_type": "stream",
     "text": [
      "Quel est votre nom ?Dupond\n",
      "Quel est votre age ?40\n",
      "Quel est votre nom ?Durand\n",
      "Quel est votre age ?50\n",
      "Quel est votre nom ?Kevin\n",
      "Quel est votre age ?12\n",
      "Quel est votre nom ?Alex\n",
      "Quel est votre age ?20\n",
      "[{'nom': 'Dupond', 'age': '40'}, {'nom': 'Durand', 'age': '50'}, {'nom': 'Kevin', 'age': '12'}, {'nom': 'Alex', 'age': '20'}]\n"
     ]
    }
   ],
   "source": [
    "liste = []\n",
    "for i in range(4):\n",
    "    nom = input(\"Quel est votre nom ?\")\n",
    "    age = input(\"Quel est votre age ?\")\n",
    "    liste.append({'nom': nom, 'age': age})\n",
    "print(liste)"
   ]
  },
  {
   "cell_type": "code",
   "execution_count": 101,
   "metadata": {},
   "outputs": [
    {
     "data": {
      "text/plain": [
       "'Dupond'"
      ]
     },
     "execution_count": 101,
     "metadata": {},
     "output_type": "execute_result"
    }
   ],
   "source": [
    "liste[0]['nom']"
   ]
  },
  {
   "cell_type": "code",
   "execution_count": 105,
   "metadata": {},
   "outputs": [],
   "source": [
    "liste_nom = [personne['nom'] for personne in liste if int(personne['age']) > 18]"
   ]
  },
  {
   "cell_type": "code",
   "execution_count": 106,
   "metadata": {},
   "outputs": [
    {
     "name": "stdout",
     "output_type": "stream",
     "text": [
      "['Dupond', 'Durand', 'Alex']\n"
     ]
    }
   ],
   "source": [
    "print(liste_nom)"
   ]
  },
  {
   "cell_type": "code",
   "execution_count": 103,
   "metadata": {},
   "outputs": [],
   "source": [
    "etat = 'majeur' if int(liste[0]['age']) > 18 else 'mineur'"
   ]
  },
  {
   "cell_type": "code",
   "execution_count": 4,
   "metadata": {},
   "outputs": [
    {
     "name": "stdout",
     "output_type": "stream",
     "text": [
      "Bonjour\n",
      "Quelle est votre réponse ?lol\n",
      "Bonjour\n",
      "Quelle est votre réponse ?OK\n"
     ]
    }
   ],
   "source": [
    "i = 0\n",
    "reponse = ''\n",
    "while i < 10 and reponse != 'OK':\n",
    "    print(\"Bonjour\")\n",
    "    reponse = input(\"Quelle est votre réponse ?\")\n",
    "    i += 1"
   ]
  },
  {
   "cell_type": "code",
   "execution_count": 5,
   "metadata": {},
   "outputs": [
    {
     "name": "stdout",
     "output_type": "stream",
     "text": [
      "79\n",
      "Quel est votre estimation ? \n",
      "10\n",
      "Trop petit\n",
      "Quel est votre estimation ? \n",
      "80\n",
      "Trop grand\n",
      "Quel est votre estimation ? \n",
      "78\n",
      "Trop petit\n",
      "Quel est votre estimation ? \n",
      "79\n",
      "gangé !!\n"
     ]
    }
   ],
   "source": [
    "\"\"\"\n",
    "L'ordinateur génère un nombre entre 1 et 100 au hasard\n",
    "Nous devons faire des propositions. L'ordinateur répond \n",
    "Plus petit, plus grand ou gagné !\n",
    "Une fois qu'on a gagné on sort de la boucle\n",
    "\"\"\"\n",
    "import random as rd\n",
    "secret = rd.randint(1,101)\n",
    "print(secret)\n",
    "\n",
    "valeur = None\n",
    "while valeur != secret:\n",
    "    valeur = int(input(\"Quel est votre estimation ? \\n\"))\n",
    "    if valeur < secret:\n",
    "        print(\"Trop petit\")\n",
    "    elif valeur > secret:\n",
    "        print(\"Trop grand\")\n",
    "print(\"gagné !!\")"
   ]
  },
  {
   "cell_type": "code",
   "execution_count": 3,
   "metadata": {},
   "outputs": [
    {
     "name": "stdout",
     "output_type": "stream",
     "text": [
      "vous pensez à 50\n",
      "plus petit (P), plus grand (G) ou égal (E) ?P\n",
      "vous pensez à 25\n",
      "plus petit (P), plus grand (G) ou égal (E) ?P\n",
      "vous pensez à 12\n",
      "plus petit (P), plus grand (G) ou égal (E) ?P\n",
      "vous pensez à 6\n",
      "plus petit (P), plus grand (G) ou égal (E) ?P\n",
      "vous pensez à 3\n",
      "plus petit (P), plus grand (G) ou égal (E) ?P\n",
      "vous pensez à 1\n",
      "plus petit (P), plus grand (G) ou égal (E) ?P\n",
      "vous pensez à 0\n",
      "plus petit (P), plus grand (G) ou égal (E) ?E\n"
     ]
    }
   ],
   "source": [
    "\"\"\"\n",
    "On pense à un nombre au hasard. Et l'ordinateur propose un nombre\n",
    "Nous répondons plus petit (P), plus grand (G) ou égal (E)\n",
    "\"\"\"\n",
    "\n",
    "basse = 0\n",
    "haute = 101\n",
    "reponse = None\n",
    "while reponse != \"E\":\n",
    "    proposition = (basse + haute) // 2\n",
    "    print(\"vous pensez à \" + str(proposition))\n",
    "    reponse = input(\"plus petit (P), plus grand (G) ou égal (E) ?\")\n",
    "    if reponse == \"P\":\n",
    "        haute = proposition\n",
    "    if reponse == \"G\":\n",
    "        basse = proposition"
   ]
  },
  {
   "cell_type": "code",
   "execution_count": 6,
   "metadata": {},
   "outputs": [
    {
     "name": "stdout",
     "output_type": "stream",
     "text": [
      "6\n"
     ]
    }
   ],
   "source": [
    "def ma_fonction():\n",
    "    return \"Bonjour\"\n",
    "\n",
    "def addition(a, b):\n",
    "    return a + b\n",
    "\n",
    "\n",
    "print(addition(4, 2))"
   ]
  },
  {
   "cell_type": "code",
   "execution_count": 19,
   "metadata": {},
   "outputs": [
    {
     "name": "stdout",
     "output_type": "stream",
     "text": [
      "Hi\n"
     ]
    }
   ],
   "source": [
    "def ma_fonc():\n",
    "    a = \"Hi\"\n",
    "    return a\n",
    "\n",
    "    \n",
    "a = \"bonjour\"\n",
    "ma_fonc()\n",
    "print(ma_fonc())"
   ]
  },
  {
   "cell_type": "code",
   "execution_count": 21,
   "metadata": {},
   "outputs": [
    {
     "name": "stdout",
     "output_type": "stream",
     "text": [
      "{'nom': 'Bolnet'}\n",
      "{'nom': 'Arthur'}\n"
     ]
    }
   ],
   "source": [
    "a = {'nom': 'Bolnet'}\n",
    "\n",
    "def change(a):\n",
    "    a['nom'] = \"Arthur\"\n",
    "    a = {'nom': 'Clement'}\n",
    "\n",
    "print(a)\n",
    "change(a)\n",
    "print(a)"
   ]
  },
  {
   "cell_type": "code",
   "execution_count": 35,
   "metadata": {},
   "outputs": [
    {
     "name": "stdout",
     "output_type": "stream",
     "text": [
      "Bonjour Simone Nina qui a 42 ans         et qui habite Paris\n",
      "Bonjour Simone Nina qui a 30 ans         et qui habite Amsterdam\n"
     ]
    }
   ],
   "source": [
    "def dire_bonjour(nom, prenom, age=30, ville=\"Paris\"):\n",
    "    print(\"Bonjour %s %s qui a %d ans \\\n",
    "        et qui habite %s\"%(nom, prenom, age, ville))\n",
    "    \n",
    "dire_bonjour(\"Simone\", \"Nina\", 42)\n",
    "dire_bonjour(\"Simone\", \"Nina\", ville=\"Amsterdam\")\n"
   ]
  },
  {
   "cell_type": "code",
   "execution_count": 32,
   "metadata": {},
   "outputs": [
    {
     "name": "stdout",
     "output_type": "stream",
     "text": [
      "Bonjour Martin Elodie qui a 30 ans \n",
      "        et qui habite Louvain\n"
     ]
    }
   ],
   "source": [
    "args  = ['Martin', 'Elodie']\n",
    "kwargs = {'ville': 'Louvain'}\n",
    "dire_bonjour(*args, **kwargs)"
   ]
  },
  {
   "cell_type": "code",
   "execution_count": 41,
   "metadata": {},
   "outputs": [],
   "source": [
    "def say_hi(*args, **kwargs):\n",
    "    for val in args:\n",
    "        print(\"Bonjour \" + val)\n",
    "    for key in kwargs:\n",
    "        print(key + kwargs[key])"
   ]
  },
  {
   "cell_type": "code",
   "execution_count": 42,
   "metadata": {},
   "outputs": [
    {
     "name": "stdout",
     "output_type": "stream",
     "text": [
      "Bonjour Martin\n",
      "Bonjour Jhonson\n",
      "Bonjour Elise\n",
      "Bonjour Robert\n",
      "villeParis\n"
     ]
    }
   ],
   "source": [
    "say_hi(\"Martin\", \"Jhonson\", \"Elise\", \"Robert\", ville='Paris')"
   ]
  },
  {
   "cell_type": "code",
   "execution_count": 43,
   "metadata": {},
   "outputs": [],
   "source": [
    "def tri_bulle(arr):\n",
    "    \"\"\"\n",
    "    Dans arr, on échange un élément et le suivant si ce dernier\n",
    "    est plus petit que le premier\n",
    "    Jusqu'à ce que le tableau soit trié\n",
    "    \"\"\""
   ]
  },
  {
   "cell_type": "code",
   "execution_count": 44,
   "metadata": {},
   "outputs": [
    {
     "name": "stdout",
     "output_type": "stream",
     "text": [
      "[1, 3, 4, 6, 7]\n"
     ]
    }
   ],
   "source": [
    "def fusion(arr1, arr2):\n",
    "    resultat = [] # On crée une liste vide dans laquelle on mettera chaque élément\n",
    "    i, j = 0, 0 # On initialise les indice des deux listes\n",
    "    while i < len(arr1) and j < len(arr2):\n",
    "        if arr1[i] < arr2[j]:\n",
    "            resultat.append(arr1[i])\n",
    "            i += 1\n",
    "        else:\n",
    "            resultat.append(arr2[j])\n",
    "            j += 1\n",
    "    resultat.extend(arr1[i:])\n",
    "    resultat.extend(arr2[j:])\n",
    "    return resultat\n",
    "\n",
    "def tri_fusion(arr):\n",
    "    if len(arr) < 2:\n",
    "        return arr\n",
    "    elif len(arr) == 2:\n",
    "        return arr if arr[0] < arr[1] else arr[::-1]\n",
    "    else:\n",
    "        return fusion(\n",
    "            tri_fusion(arr[:len(arr)//2]),\n",
    "            tri_fusion(arr[len(arr)//2:])\n",
    "        )\n",
    "    \n",
    "print(tri_fusion([3,1,6,4,7]))"
   ]
  },
  {
   "cell_type": "code",
   "execution_count": 45,
   "metadata": {},
   "outputs": [],
   "source": [
    "def se_presenter(personne):\n",
    "    print(\"Je m'appelle %s %s\"%(personne['nom'], personne['prenom']))"
   ]
  },
  {
   "cell_type": "code",
   "execution_count": 47,
   "metadata": {},
   "outputs": [
    {
     "ename": "KeyError",
     "evalue": "'nom'",
     "output_type": "error",
     "traceback": [
      "\u001b[1;31m---------------------------------------------------------------------------\u001b[0m",
      "\u001b[1;31mKeyError\u001b[0m                                  Traceback (most recent call last)",
      "\u001b[1;32m<ipython-input-47-2db120d21f00>\u001b[0m in \u001b[0;36m<module>\u001b[1;34m\u001b[0m\n\u001b[1;32m----> 1\u001b[1;33m \u001b[0mse_presenter\u001b[0m\u001b[1;33m(\u001b[0m\u001b[1;33m{\u001b[0m\u001b[1;34m'nm'\u001b[0m \u001b[1;33m:\u001b[0m \u001b[1;34m'lemarchand'\u001b[0m\u001b[1;33m,\u001b[0m \u001b[1;34m'prenom'\u001b[0m\u001b[1;33m:\u001b[0m \u001b[1;34m'karine'\u001b[0m\u001b[1;33m}\u001b[0m\u001b[1;33m)\u001b[0m\u001b[1;33m\u001b[0m\u001b[1;33m\u001b[0m\u001b[0m\n\u001b[0m",
      "\u001b[1;32m<ipython-input-45-e942702c76aa>\u001b[0m in \u001b[0;36mse_presenter\u001b[1;34m(personne)\u001b[0m\n\u001b[0;32m      1\u001b[0m \u001b[1;32mdef\u001b[0m \u001b[0mse_presenter\u001b[0m\u001b[1;33m(\u001b[0m\u001b[0mpersonne\u001b[0m\u001b[1;33m)\u001b[0m\u001b[1;33m:\u001b[0m\u001b[1;33m\u001b[0m\u001b[1;33m\u001b[0m\u001b[0m\n\u001b[1;32m----> 2\u001b[1;33m     \u001b[0mprint\u001b[0m\u001b[1;33m(\u001b[0m\u001b[1;34m\"Je m'appelle %s %s\"\u001b[0m\u001b[1;33m%\u001b[0m\u001b[1;33m(\u001b[0m\u001b[0mpersonne\u001b[0m\u001b[1;33m[\u001b[0m\u001b[1;34m'nom'\u001b[0m\u001b[1;33m]\u001b[0m\u001b[1;33m,\u001b[0m \u001b[0mpersonne\u001b[0m\u001b[1;33m[\u001b[0m\u001b[1;34m'prenom'\u001b[0m\u001b[1;33m]\u001b[0m\u001b[1;33m)\u001b[0m\u001b[1;33m)\u001b[0m\u001b[1;33m\u001b[0m\u001b[1;33m\u001b[0m\u001b[0m\n\u001b[0m",
      "\u001b[1;31mKeyError\u001b[0m: 'nom'"
     ]
    }
   ],
   "source": [
    "personne.se_presenter()"
   ]
  },
  {
   "cell_type": "code",
   "execution_count": 55,
   "metadata": {},
   "outputs": [
    {
     "name": "stdout",
     "output_type": "stream",
     "text": [
      "Mickael\n",
      "Gilberto\n",
      "Je m'appelle Mickael Jackson\n",
      "Je m'appelle Gilberto Gil\n"
     ]
    }
   ],
   "source": [
    "class Personne:\n",
    "    def __init__(self, nom, prenom, age=32):\n",
    "        self.nom = nom\n",
    "        self.prenom = prenom\n",
    "        self.age = age\n",
    "        self.compte = CompteBancaire()\n",
    "        \n",
    "    def se_presenter(self):\n",
    "        print(\"Je m'appelle %s %s\"%(self.nom, self.prenom))\n",
    "\n",
    "une_personne = Personne(\"Mickael\", \"Jackson\")\n",
    "mon_voisin = Personne(\"Gilberto\", \"Gil\")\n",
    "\n",
    "print(une_personne.nom)\n",
    "print(mon_voisin.nom)\n",
    "une_personne.se_presenter()\n",
    "mon_voisin.se_presenter()"
   ]
  },
  {
   "cell_type": "code",
   "execution_count": 69,
   "metadata": {},
   "outputs": [
    {
     "name": "stdout",
     "output_type": "stream",
     "text": [
      "3800\n"
     ]
    }
   ],
   "source": [
    "# faire une classe compte bancaire\n",
    "# attribut : solde\n",
    "# methodes : retrait(montant), depot(montant)\n",
    "class CompteBancaire:\n",
    "    def __init__(self, solde, personne = None):\n",
    "        self.solde = solde\n",
    "        self.personne = personne\n",
    "    \n",
    "    def retrait(self, montant):\n",
    "        assert montant < self.solde, \"Pas assez d'argent sur votre compte\"\n",
    "        self.solde -= montant\n",
    "\n",
    "    def depot(self, montant):\n",
    "        self.solde += montant\n",
    "        \n",
    "mon_compte = CompteBancaire(4000)\n",
    "mon_compte.retrait(200)\n",
    "print(mon_compte.solde)"
   ]
  },
  {
   "cell_type": "code",
   "execution_count": 92,
   "metadata": {},
   "outputs": [
    {
     "name": "stdout",
     "output_type": "stream",
     "text": [
      "Laurent\n"
     ]
    },
    {
     "ename": "TypeError",
     "evalue": "__init__() got an unexpected keyword argument 'solde'",
     "output_type": "error",
     "traceback": [
      "\u001b[1;31m---------------------------------------------------------------------------\u001b[0m",
      "\u001b[1;31mTypeError\u001b[0m                                 Traceback (most recent call last)",
      "\u001b[1;32m<ipython-input-92-f812b699b353>\u001b[0m in \u001b[0;36m<module>\u001b[1;34m\u001b[0m\n\u001b[0;32m     45\u001b[0m \u001b[0mprint\u001b[0m\u001b[1;33m(\u001b[0m\u001b[0mclient\u001b[0m\u001b[1;33m.\u001b[0m\u001b[0mnom\u001b[0m\u001b[1;33m)\u001b[0m\u001b[1;33m\u001b[0m\u001b[1;33m\u001b[0m\u001b[0m\n\u001b[0;32m     46\u001b[0m \u001b[1;33m\u001b[0m\u001b[0m\n\u001b[1;32m---> 47\u001b[1;33m \u001b[0mune_personne\u001b[0m \u001b[1;33m=\u001b[0m \u001b[0mPersonne\u001b[0m\u001b[1;33m(\u001b[0m\u001b[1;34m\"Mickael\"\u001b[0m\u001b[1;33m,\u001b[0m \u001b[1;34m\"Jackson\"\u001b[0m\u001b[1;33m,\u001b[0m \u001b[0msolde\u001b[0m\u001b[1;33m=\u001b[0m\u001b[1;36m300\u001b[0m\u001b[1;33m)\u001b[0m\u001b[1;33m\u001b[0m\u001b[1;33m\u001b[0m\u001b[0m\n\u001b[0m\u001b[0;32m     48\u001b[0m \u001b[0mmon_voisin\u001b[0m \u001b[1;33m=\u001b[0m \u001b[0mPersonne\u001b[0m\u001b[1;33m(\u001b[0m\u001b[1;34m\"Gilberto\"\u001b[0m\u001b[1;33m,\u001b[0m \u001b[1;34m\"Gil\"\u001b[0m\u001b[1;33m)\u001b[0m\u001b[1;33m\u001b[0m\u001b[1;33m\u001b[0m\u001b[0m\n\u001b[0;32m     49\u001b[0m \u001b[1;33m\u001b[0m\u001b[0m\n",
      "\u001b[1;31mTypeError\u001b[0m: __init__() got an unexpected keyword argument 'solde'"
     ]
    }
   ],
   "source": [
    "class Personne:\n",
    "    def __init__(self, nom, prenom, age=32):\n",
    "        self.nom = nom\n",
    "        self.prenom = prenom\n",
    "        self.age = age\n",
    "        \n",
    "        \n",
    "    def se_presenter(self):\n",
    "        print(\"Je m'appelle %s %s\"%(self.nom, self.prenom))\n",
    "        \n",
    "    def __str__(self):\n",
    "        return \"%s %s -- %d ans -- cpte : %d €\"%(\n",
    "            self.prenom,\n",
    "            self.nom,\n",
    "            self.age,\n",
    "            self.compte.solde,\n",
    "        )\n",
    "    def __add__(self, other):\n",
    "        return\n",
    "    \n",
    "    def __lt__(self, other):\n",
    "        return self.age < other.age\n",
    "    \n",
    "    def __eq__(self, other):\n",
    "        return self.age == other.age\n",
    "    \n",
    "    def __iter__(self):\n",
    "        return iter([Personne(self.nom, self.prenom, age) for age in range(self.age, 100)])\n",
    "    \n",
    "    \n",
    "class Client(Personne):\n",
    "    def __init__(self, nom, prenom, age=32, solde=6000):\n",
    "        Personne.__init__(self, nom, prenom, age=32)\n",
    "        self.compte = CompteBancaire(solde, self)\n",
    "        \n",
    "    def transfert(self, autre_personne, montant):\n",
    "        assert type(autre_personne) == Personne, \"\\\n",
    "            autre_personne devrait être une Personne, pas une \"+type(autre_personne)\n",
    "        self.compte.retrait(montant)\n",
    "        autre_personne.compte.depot(montant)\n",
    "        \n",
    "        \n",
    "        \n",
    "client = Client(\"Laurent\", \"Voulzy\")\n",
    "print(client.nom)\n",
    "\n",
    "une_personne = Personne(\"Mickael\", \"Jackson\", solde=300)\n",
    "mon_voisin = Personne(\"Gilberto\", \"Gil\")\n",
    "\n",
    "try:\n",
    "    print(une_personne.compte.solde)\n",
    "    une_personne.transfert(mon_voisin, 80000)\n",
    "    print(une_personne.compte.solde)\n",
    "except Exception as e:\n",
    "    print(\"une erreur -- \", e)\n",
    "    \n",
    "print(une_personne > mon_voisin)\n",
    "for i in une_personne:\n",
    "    #print(i)\n",
    "    pass"
   ]
  },
  {
   "cell_type": "code",
   "execution_count": 83,
   "metadata": {},
   "outputs": [
    {
     "name": "stdout",
     "output_type": "stream",
     "text": [
      "4\n",
      "5\n",
      "6\n",
      "7\n",
      "8\n",
      "9\n",
      "10\n",
      "11\n",
      "12\n",
      "13\n",
      "14\n",
      "15\n",
      "16\n",
      "17\n",
      "18\n",
      "19\n"
     ]
    }
   ],
   "source": [
    "def gen(a,b):\n",
    "    i=a \n",
    "    while i < b:\n",
    "        yield i\n",
    "        i+=1\n",
    "\n",
    "for i in gen(4, 20):\n",
    "    print(i)"
   ]
  },
  {
   "cell_type": "code",
   "execution_count": 101,
   "metadata": {},
   "outputs": [
    {
     "name": "stdout",
     "output_type": "stream",
     "text": [
      "hello\n",
      "bonjour\n"
     ]
    }
   ],
   "source": [
    "from tkinter import Tk, Label, Button, LEFT, RIGHT\n",
    "\n",
    "fen = Tk()\n",
    "frame = Label(fen, text=\"Bonjour GE !\")\n",
    "frame.pack(side=LEFT)\n",
    "\n",
    "button = Button(fen, text=\"Valider\")\n",
    "button.pack(side=RIGHT)\n",
    "\n",
    "button2 = Button(fen, text=\"Annuler\")\n",
    "button2.pack()\n",
    "\n",
    "print(\"hello\")\n",
    "fen.mainloop()\n",
    "print(\"bonjour\")\n"
   ]
  },
  {
   "cell_type": "code",
   "execution_count": 115,
   "metadata": {},
   "outputs": [
    {
     "name": "stdout",
     "output_type": "stream",
     "text": [
      "hello\n",
      "hello\n",
      "hello\n",
      "hello\n",
      "hello\n",
      "hello\n",
      "hello\n",
      "hello\n",
      "hello\n",
      "hello\n",
      "bonjour\n"
     ]
    }
   ],
   "source": [
    "from tkinter import Tk, Label, Button, LEFT, RIGHT, Frame\n",
    "\n",
    "\n",
    "class MonBouton(Button):\n",
    "    def __init__(self, *args, **kwargs):\n",
    "        self.value = kwargs['value']\n",
    "        del kwargs['value']\n",
    "        Button.__init__(self, *args, **kwargs)\n",
    "        \n",
    "\n",
    "fen = Tk()\n",
    "\n",
    "label = Label(fen, text=\"Bonjour GE !\")\n",
    "label.pack(side=LEFT)\n",
    "\n",
    "frame = Frame(fen)\n",
    "frame.pack(side=LEFT)\n",
    "\n",
    "def print_number(event):\n",
    "    print(\"Coucou\", event.widget.value)\n",
    "\n",
    "for i in range(3):\n",
    "    for j in range(3):\n",
    "        button = MonBouton(frame, value=i+j*3, text=str(i+j*3))\n",
    "        button.bind('<Button-1>', print_number)\n",
    "        button.grid(column=i, row=j)\n",
    "        \n",
    "print(\"hello\")\n",
    "fen.mainloop()\n",
    "print(\"bonjour\")"
   ]
  },
  {
   "cell_type": "code",
   "execution_count": null,
   "metadata": {},
   "outputs": [],
   "source": []
  }
 ],
 "metadata": {
  "kernelspec": {
   "display_name": "Python 3",
   "language": "python",
   "name": "python3"
  },
  "language_info": {
   "codemirror_mode": {
    "name": "ipython",
    "version": 3
   },
   "file_extension": ".py",
   "mimetype": "text/x-python",
   "name": "python",
   "nbconvert_exporter": "python",
   "pygments_lexer": "ipython3",
   "version": "3.7.1"
  }
 },
 "nbformat": 4,
 "nbformat_minor": 2
}
