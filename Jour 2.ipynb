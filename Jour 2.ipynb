{
 "cells": [
  {
   "cell_type": "code",
   "execution_count": 25,
   "metadata": {},
   "outputs": [
    {
     "name": "stdout",
     "output_type": "stream",
     "text": [
      "[13 15]\n",
      "[14 15]\n",
      "Collision\n",
      "[14 15]\n",
      "[14 16]\n",
      "[14 17]\n",
      "[14 18]\n",
      "[14 19]\n",
      "[14 20]\n",
      "[14 21]\n",
      "[14 22]\n",
      "[14 23]\n",
      "[14 24]\n",
      "[14 25]\n",
      "[14 26]\n",
      "[14 27]\n",
      "[14 28]\n",
      "[14 29]\n",
      "[14 30]\n",
      "[14 31]\n",
      "[14 32]\n"
     ]
    }
   ],
   "source": [
    "import numpy as np\n",
    "\n",
    "class Voiture:\n",
    "    def __init__(self, color=\"b\"):\n",
    "        self.color = color\n",
    "        # (x , y) aléatoirement 0 <= x,y < 20\n",
    "        self.position = np.array([12, 15], dtype=int)# np.random.randint(0, 20, 2)\n",
    "        self.vitesse = np.array([1, 0], dtype=int)\n",
    "    \n",
    "    def se_deplacer(self, liste_obstacles):\n",
    "        for obstacle in liste_obstacles:\n",
    "            if (self.position + self.vitesse == obstacle.position).all():\n",
    "                # Une collision a été détectée\n",
    "                print(\"Collision\")\n",
    "                self.vitesse = np.array([[0,1],[1,0]]).dot(self.vitesse)\n",
    "                return\n",
    "        self.position += self.vitesse\n",
    "        \n",
    "class Obstacle:\n",
    "    def __init__(self, position):\n",
    "        self.position = position\n",
    "        \n",
    "une_voiture = Voiture()\n",
    "un_obstacle = Obstacle(np.array([15,15], dtype=int))\n",
    "liste_obstacles = [un_obstacle]\n",
    "for i in range(20):\n",
    "    une_voiture.se_deplacer(liste_obstacles)\n",
    "    print(une_voiture.position)"
   ]
  },
  {
   "cell_type": "code",
   "execution_count": 27,
   "metadata": {},
   "outputs": [
    {
     "name": "stdout",
     "output_type": "stream",
     "text": [
      "[12 15]\n",
      "500\n",
      "[2 0]\n",
      "[14 15]\n",
      "Collision\n",
      "[14 15]\n",
      "[14 17]\n",
      "[14 19]\n",
      "[14 21]\n",
      "[14 23]\n",
      "[14 25]\n",
      "[14 27]\n",
      "[14 29]\n",
      "[14 31]\n",
      "[14 33]\n",
      "[14 35]\n",
      "[14 37]\n",
      "[14 39]\n",
      "[14 41]\n",
      "[14 43]\n",
      "[14 45]\n",
      "[14 47]\n",
      "[14 49]\n",
      "[14 51]\n"
     ]
    }
   ],
   "source": [
    "class VoitureSport(Voiture):\n",
    "    def __init__(self, color='rouge', cylindre=500):\n",
    "        Voiture.__init__(self, color=color)\n",
    "        # Redéfinir vitesse\n",
    "        self.vitesse *= 2\n",
    "        self.cylindre = cylindre\n",
    "        \n",
    "    def accelerer(self):\n",
    "        self.vitesse *= 2\n",
    "    \n",
    "    def _check_collision(self, obstacle):\n",
    "        norm_vitesse = np.linalg.norm(self.vitesse)\n",
    "        for mul in range(int(norm_vitesse)+1):\n",
    "            new_position = (self.position + mul/norm_vitesse * self.vitesse).astype(int)\n",
    "            if (new_position == obstacle.position).all():\n",
    "                return True\n",
    "        return False\n",
    "    \n",
    "    def se_deplacer(self, liste_obstacles):\n",
    "        for obstacle in liste_obstacles:\n",
    "            if self._check_collision(obstacle):\n",
    "                # Une collision a été détectée\n",
    "                print(\"Collision\")\n",
    "                self.vitesse = np.array([[0,1],[1,0]]).dot(self.vitesse)\n",
    "                return\n",
    "        self.position += self.vitesse\n",
    "\n",
    "sport = VoitureSport()\n",
    "print(sport.position)\n",
    "print(sport.cylindre)\n",
    "print(sport.vitesse)\n",
    "\n",
    "\n",
    "une_voiture = VoitureSport()\n",
    "un_obstacle = Obstacle(np.array([15,15]))\n",
    "liste_obstacles = [un_obstacle]\n",
    "for i in range(20):\n",
    "    une_voiture.se_deplacer(liste_obstacles)\n",
    "    print(une_voiture.position)"
   ]
  },
  {
   "cell_type": "code",
   "execution_count": null,
   "metadata": {},
   "outputs": [],
   "source": []
  }
 ],
 "metadata": {
  "kernelspec": {
   "display_name": "Python 3",
   "language": "python",
   "name": "python3"
  },
  "language_info": {
   "codemirror_mode": {
    "name": "ipython",
    "version": 3
   },
   "file_extension": ".py",
   "mimetype": "text/x-python",
   "name": "python",
   "nbconvert_exporter": "python",
   "pygments_lexer": "ipython3",
   "version": "3.7.1"
  }
 },
 "nbformat": 4,
 "nbformat_minor": 2
}
