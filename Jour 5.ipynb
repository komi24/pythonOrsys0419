{
 "cells": [
  {
   "cell_type": "code",
   "execution_count": 1,
   "metadata": {},
   "outputs": [
    {
     "name": "stdout",
     "output_type": "stream",
     "text": [
      "{'bpi': {'2019-03-05': 3880.8, '2019-03-06': 3884.9983, '2019-03-07': 3891.7317, '2019-03-08': 3875.47, '2019-03-09': 3950.61, '2019-03-10': 3932.0433, '2019-03-11': 3882.615, '2019-03-12': 3891.3467, '2019-03-13': 3882.8017, '2019-03-14': 3885.9883, '2019-03-15': 3935.415, '2019-03-16': 4022.5383, '2019-03-17': 3999.6617, '2019-03-18': 4004.8117, '2019-03-19': 4033.7183, '2019-03-20': 4064.0867, '2019-03-21': 3999.3233, '2019-03-22': 4003.55, '2019-03-23': 4009.4683, '2019-03-24': 3994.0283, '2019-03-25': 3929.3083, '2019-03-26': 3945.325, '2019-03-27': 4051.9033, '2019-03-28': 4039.0017, '2019-03-29': 4119.0183, '2019-03-30': 4117.8483, '2019-03-31': 4117.51, '2019-04-01': 4156.39, '2019-04-02': 4908.6883, '2019-04-03': 4977.0017, '2019-04-04': 4917.8467}, 'disclaimer': 'This data was produced from the CoinDesk Bitcoin Price Index. BPI value data returned as USD.', 'time': {'updated': 'Apr 5, 2019 00:03:00 UTC', 'updatedISO': '2019-04-05T00:03:00+00:00'}}\n"
     ]
    }
   ],
   "source": [
    "import requests\n",
    "\n",
    "api = \"https://api.coindesk.com/v1/bpi/historical/close.json?start=&end=\"\n",
    "\n",
    "\n",
    "res = requests.get(api)\n",
    "\n",
    "print(res.json())"
   ]
  },
  {
   "cell_type": "code",
   "execution_count": 21,
   "metadata": {},
   "outputs": [
    {
     "name": "stdout",
     "output_type": "stream",
     "text": [
      "Help on function addition in module __main__:\n",
      "\n",
      "addition(a, b)\n",
      "    Additionne a et b. Renvoie le résultat\n",
      "    \n",
      "    :param a: Première opérande\n",
      "    :param b: Deuxième opérande\n",
      "    :type a: int\n",
      "    :type b: int\n",
      "    :return: Résultat de l'adition\n",
      "    \n",
      "    :example:\n",
      "    >>> b=addition(2,2)\n",
      "    >>> addition(2,b)\n",
      "    6\n",
      "    \n",
      "    >>> b=addition(0,0)\n",
      "    >>> addition(2,b)\n",
      "    2\n",
      "\n"
     ]
    },
    {
     "data": {
      "text/plain": [
       "TestResults(failed=0, attempted=4)"
      ]
     },
     "execution_count": 21,
     "metadata": {},
     "output_type": "execute_result"
    }
   ],
   "source": [
    "def addition(a, b):\n",
    "    \"\"\"\n",
    "    Additionne a et b. Renvoie le résultat\n",
    "    \n",
    "    :param a: Première opérande\n",
    "    :param b: Deuxième opérande\n",
    "    :type a: int\n",
    "    :type b: int\n",
    "    :return: Résultat de l'adition\n",
    "    \n",
    "    :example:\n",
    "    >>> b=addition(2,2)\n",
    "    >>> addition(2,b)\n",
    "    6\n",
    "    \n",
    "    >>> b=addition(0,0)\n",
    "    >>> addition(2,b)\n",
    "    2\n",
    "\n",
    "\n",
    "    \"\"\"\n",
    "    return a+b\n",
    "\n",
    "help(addition)\n",
    "\n",
    "import doctest\n",
    "doctest.testmod()"
   ]
  },
  {
   "cell_type": "code",
   "execution_count": 20,
   "metadata": {},
   "outputs": [
    {
     "name": "stdout",
     "output_type": "stream",
     "text": [
      "['b=addition(2,2)', 'addition(2,b)']\n",
      "None\n",
      "6\n"
     ]
    }
   ],
   "source": [
    "import re\n",
    "\n",
    "examples = re.findall(\">{3}\\s*(.*)\",addition.__doc__)\n",
    "print(examples)\n",
    "for code in examples[:-1]:\n",
    "    res = exec(code)\n",
    "    print(res)\n",
    "res = eval(examples[-1])\n",
    "print(res)"
   ]
  },
  {
   "cell_type": "code",
   "execution_count": null,
   "metadata": {},
   "outputs": [],
   "source": [
    "class CompteBancaire:\n",
    "    def __init__(self, solde):\n",
    "        self.solde = solde\n",
    "    \n",
    "    def depot()"
   ]
  }
 ],
 "metadata": {
  "kernelspec": {
   "display_name": "Python 3",
   "language": "python",
   "name": "python3"
  },
  "language_info": {
   "codemirror_mode": {
    "name": "ipython",
    "version": 3
   },
   "file_extension": ".py",
   "mimetype": "text/x-python",
   "name": "python",
   "nbconvert_exporter": "python",
   "pygments_lexer": "ipython3",
   "version": "3.7.1"
  }
 },
 "nbformat": 4,
 "nbformat_minor": 2
}
